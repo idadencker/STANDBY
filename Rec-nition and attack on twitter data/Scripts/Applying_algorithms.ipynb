{
 "cells": [
  {
   "cell_type": "markdown",
   "id": "0fb7b264-4717-4af8-8619-62a1b9e6961f",
   "metadata": {},
   "source": [
    "# Apply rec-nition and attack"
   ]
  },
  {
   "cell_type": "code",
   "execution_count": null,
   "id": "583cd110-b270-418a-9de7-80774d90f72b",
   "metadata": {},
   "outputs": [],
   "source": []
  },
  {
   "cell_type": "code",
   "execution_count": null,
   "id": "ed07b310-5ee1-4958-9db2-4bd0b1de5598",
   "metadata": {},
   "outputs": [],
   "source": []
  },
  {
   "cell_type": "code",
   "execution_count": null,
   "id": "9d6f6479-a72e-45c3-99d6-b8462dc31307",
   "metadata": {},
   "outputs": [],
   "source": []
  },
  {
   "cell_type": "code",
   "execution_count": null,
   "id": "08fe494e-8c07-4f4f-ac90-c776b58c0571",
   "metadata": {},
   "outputs": [],
   "source": []
  },
  {
   "cell_type": "markdown",
   "id": "73a9c15b-37f1-4b28-b64d-4038daf09fcd",
   "metadata": {},
   "source": [
    "# Analysing and plotting results"
   ]
  },
  {
   "cell_type": "code",
   "execution_count": null,
   "id": "b9b7afdb-625d-4439-9c0a-054999a4fd1e",
   "metadata": {},
   "outputs": [],
   "source": []
  },
  {
   "cell_type": "code",
   "execution_count": null,
   "id": "aa71227d-45a4-4543-8d87-d35a132c3910",
   "metadata": {},
   "outputs": [],
   "source": []
  },
  {
   "cell_type": "code",
   "execution_count": null,
   "id": "6e6ac969-1e2e-4e68-a252-bb749a585b2a",
   "metadata": {},
   "outputs": [],
   "source": []
  },
  {
   "cell_type": "code",
   "execution_count": null,
   "id": "a507fcd3-3e71-4922-a0b4-ac1b057506b4",
   "metadata": {},
   "outputs": [],
   "source": []
  }
 ],
 "metadata": {
  "kernelspec": {
   "display_name": "Python 3 (ipykernel)",
   "language": "python",
   "name": "python3"
  },
  "language_info": {
   "codemirror_mode": {
    "name": "ipython",
    "version": 3
   },
   "file_extension": ".py",
   "mimetype": "text/x-python",
   "name": "python",
   "nbconvert_exporter": "python",
   "pygments_lexer": "ipython3",
   "version": "3.11.5"
  }
 },
 "nbformat": 4,
 "nbformat_minor": 5
}
